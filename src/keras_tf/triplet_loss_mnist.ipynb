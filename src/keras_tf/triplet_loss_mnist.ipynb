{
  "nbformat": 4,
  "nbformat_minor": 0,
  "metadata": {
    "colab": {
      "name": "triplet_loss_mnist",
      "provenance": []
    },
    "kernelspec": {
      "name": "python3",
      "display_name": "Python 3"
    }
  },
  "cells": [
    {
      "cell_type": "code",
      "metadata": {
        "id": "NL3EE0lfHzzn",
        "colab_type": "code",
        "colab": {}
      },
      "source": [
        "import numpy as np\n",
        "\n",
        "from tensorflow.keras import datasets\n",
        "from tensorflow.keras.models import Sequential, Model\n",
        "from tensorflow.keras.layers import Dense, Flatten, Conv2D, MaxPooling2D, Lambda, Dropout, concatenate, Input\n",
        "from tensorflow.keras.optimizers import Adam\n",
        "from tensorflow.keras import backend as K\n",
        "\n",
        "from sklearn.neighbors import KNeighborsClassifier"
      ],
      "execution_count": 0,
      "outputs": []
    },
    {
      "cell_type": "code",
      "metadata": {
        "id": "M0oCwNwVcOnq",
        "colab_type": "code",
        "colab": {}
      },
      "source": [
        " (X_train, y_train), (X_test, y_test) = datasets.mnist.load_data()\n",
        "\n",
        " X_train = np.reshape(X_train, (X_train.shape[0], 28, 28, 1))\n",
        " X_test = np.reshape(X_test, (X_test.shape[0], 28, 28, 1))"
      ],
      "execution_count": 0,
      "outputs": []
    },
    {
      "cell_type": "code",
      "metadata": {
        "id": "pRZ8xjykIP9P",
        "colab_type": "code",
        "colab": {}
      },
      "source": [
        "def sort_data(X_train, y_train, X_test, y_test):\n",
        "  '''\n",
        "  sort the data by label\n",
        "  '''\n",
        "  data_train = []\n",
        "  data_test = []\n",
        "  \n",
        "  for i in range(10):\n",
        "    data_train.append(X_train[y_train == i])\n",
        "    data_test.append(X_test[y_test == i])\n",
        "  return np.array(data_train), np.array(data_test)"
      ],
      "execution_count": 0,
      "outputs": []
    },
    {
      "cell_type": "code",
      "metadata": {
        "id": "qP3bfFK3SFS2",
        "colab_type": "code",
        "colab": {}
      },
      "source": [
        "data_train, data_test = sort_data(X_train, y_train, X_test, y_test)"
      ],
      "execution_count": 0,
      "outputs": []
    },
    {
      "cell_type": "code",
      "metadata": {
        "colab_type": "code",
        "id": "q4vwZmFVgQpq",
        "colab": {}
      },
      "source": [
        "## get hard batch\n",
        "def get_rd_batch(batch_size, datas):\n",
        "  '''\n",
        "  batch_size: size of the batch we want to build\n",
        "  datas: datas goten (data_train or data_test)\n",
        "  GOAL: build triplet data set -> (A, P, N)\n",
        "  '''\n",
        "  triplets = [np.zeros((batch_size, 28, 28, 1)) for _ in range(3)]\n",
        "\n",
        "  for i in range(batch_size):\n",
        "    ## build one triplet\n",
        "    rd_label = np.random.randint(0, 10)\n",
        "    nb_sample = datas[rd_label].shape[0]\n",
        "\n",
        "    anchor_pos = np.random.randint(0, nb_sample)\n",
        "    positive_pos = np.random.randint(0, nb_sample)\n",
        "\n",
        "    rd_label_neg = (rd_label + np.random.randint(1, 10)) % 10\n",
        "    nb_sample_neg = datas[rd_label_neg].shape[0]\n",
        "    negative_pos = np.random.randint(0, nb_sample_neg)\n",
        "\n",
        "    triplets[0][i,:,:,:] = datas[rd_label][anchor_pos]\n",
        "    triplets[1][i,:,:,:] = datas[rd_label][positive_pos]\n",
        "    triplets[2][i,:,:,:] = datas[rd_label_neg][negative_pos]\n",
        "  return triplets"
      ],
      "execution_count": 0,
      "outputs": []
    },
    {
      "cell_type": "code",
      "metadata": {
        "id": "JKZGD2Y2LXru",
        "colab_type": "code",
        "colab": {}
      },
      "source": [
        "triplets_train = get_rd_batch(40000, data_train)\n",
        "triplets_test = get_rd_batch(1000, data_test)"
      ],
      "execution_count": 0,
      "outputs": []
    },
    {
      "cell_type": "code",
      "metadata": {
        "id": "FbjvbzPab64d",
        "colab_type": "code",
        "colab": {}
      },
      "source": [
        "## triplet loss function\n",
        "def triplet_loss(y_target, y_pred, margin=0.4):\n",
        "  '''\n",
        "  Triplet loss function\n",
        "  y_target: useless param\n",
        "  '''\n",
        "  l = y_pred.shape[-1]\n",
        "\n",
        "  a = y_pred[:, 0:int(l//3)]\n",
        "  p = y_pred[:, int(l//3):int(l * 2//3)]\n",
        "  n = y_pred[:, int(l * 2//3):l]\n",
        "\n",
        "  pos_dist = K.sum(K.square(a - p), axis=1)\n",
        "  neg_dist = K.sum(K.square(a - n), axis=1)\n",
        "\n",
        "  return K.maximum(pos_dist - neg_dist + margin, 0.0)"
      ],
      "execution_count": 0,
      "outputs": []
    },
    {
      "cell_type": "code",
      "metadata": {
        "id": "-5u_fRau-VUe",
        "colab_type": "code",
        "colab": {}
      },
      "source": [
        "## create our model\n",
        "def create_triplet_model():\n",
        "  '''\n",
        "  Create our model\n",
        "  '''\n",
        "  input_shape = (28, 28, 1)\n",
        "\n",
        "  inpt_a = Input(input_shape)\n",
        "  inpt_p = Input(input_shape)\n",
        "  inpt_n = Input(input_shape)\n",
        "\n",
        "  ## create our CNN model\n",
        "  cnn = Sequential()\n",
        "  cnn.add(Conv2D(32, (3, 3), input_shape=input_shape, activation='relu'))\n",
        "  cnn.add(MaxPooling2D(2, 2))\n",
        "  cnn.add(Conv2D(64, (3, 3), activation='relu'))\n",
        "  cnn.add(MaxPooling2D(2, 2))\n",
        "  cnn.add(Dropout(0.1))\n",
        "  cnn.add(Flatten())\n",
        "  cnn.add(Dense(10, activation='relu')) ## embeddings\n",
        "  cnn.add(Lambda(lambda x:K.l2_normalize(x, axis=1)))\n",
        "\n",
        "  ## link the cnn with the input to create encoded vector\n",
        "  encoded_a = cnn (inpt_a)\n",
        "  encoded_p = cnn (inpt_p)\n",
        "  encoded_n = cnn (inpt_n)\n",
        "\n",
        "  ## create merged layer (with output of a, p and n)\n",
        "  merged_layer = concatenate([encoded_a, encoded_p, encoded_n])\n",
        "\n",
        "  ## create final model\n",
        "  model = Model([inpt_a, inpt_p, inpt_n], merged_layer)\n",
        "\n",
        "  ## compile\n",
        "  adm = Adam(lr=0.0001)\n",
        "  model.compile(loss=triplet_loss, optimizer=adm)\n",
        "  \n",
        "  return model\n",
        "\n"
      ],
      "execution_count": 0,
      "outputs": []
    },
    {
      "cell_type": "code",
      "metadata": {
        "id": "7w7PmJF_KTot",
        "colab_type": "code",
        "colab": {}
      },
      "source": [
        "model = create_triplet_model()"
      ],
      "execution_count": 0,
      "outputs": []
    },
    {
      "cell_type": "code",
      "metadata": {
        "id": "w3m2PJbNKXWp",
        "colab_type": "code",
        "colab": {
          "base_uri": "https://localhost:8080/",
          "height": 399
        },
        "outputId": "9e14b8a0-dc39-4b81-9097-708cb2a47170"
      },
      "source": [
        "model.summary()"
      ],
      "execution_count": 99,
      "outputs": [
        {
          "output_type": "stream",
          "text": [
            "Model: \"model_5\"\n",
            "__________________________________________________________________________________________________\n",
            "Layer (type)                    Output Shape         Param #     Connected to                     \n",
            "==================================================================================================\n",
            "input_16 (InputLayer)           [(None, 28, 28, 1)]  0                                            \n",
            "__________________________________________________________________________________________________\n",
            "input_17 (InputLayer)           [(None, 28, 28, 1)]  0                                            \n",
            "__________________________________________________________________________________________________\n",
            "input_18 (InputLayer)           [(None, 28, 28, 1)]  0                                            \n",
            "__________________________________________________________________________________________________\n",
            "sequential_5 (Sequential)       (None, 10)           34826       input_16[0][0]                   \n",
            "                                                                 input_17[0][0]                   \n",
            "                                                                 input_18[0][0]                   \n",
            "__________________________________________________________________________________________________\n",
            "concatenate_5 (Concatenate)     (None, 30)           0           sequential_5[1][0]               \n",
            "                                                                 sequential_5[2][0]               \n",
            "                                                                 sequential_5[3][0]               \n",
            "==================================================================================================\n",
            "Total params: 34,826\n",
            "Trainable params: 34,826\n",
            "Non-trainable params: 0\n",
            "__________________________________________________________________________________________________\n"
          ],
          "name": "stdout"
        }
      ]
    },
    {
      "cell_type": "code",
      "metadata": {
        "id": "3Ix0b8TtM3Dv",
        "colab_type": "code",
        "colab": {
          "base_uri": "https://localhost:8080/",
          "height": 139
        },
        "outputId": "8049a91a-6a88-46d1-ad29-299370c8d317"
      },
      "source": [
        "y_empty_tr = np.empty((triplets_train[0].shape[0],))\n",
        "y_empty_te = np.empty((triplets_test[0].shape[0],))\n",
        "acc = model.fit([triplets_train[0], triplets_train[1], triplets_train[2]], y_empty_tr, batch_size=64, epochs=3, validation_data=([triplets_test[0], triplets_test[1], triplets_test[2]], y_empty_te))"
      ],
      "execution_count": 103,
      "outputs": [
        {
          "output_type": "stream",
          "text": [
            "Train on 40000 samples, validate on 1000 samples\n",
            "Epoch 1/3\n",
            "40000/40000 [==============================] - 85s 2ms/sample - loss: 0.1546 - val_loss: 0.0466\n",
            "Epoch 2/3\n",
            "40000/40000 [==============================] - 85s 2ms/sample - loss: 0.0515 - val_loss: 0.0268\n",
            "Epoch 3/3\n",
            "40000/40000 [==============================] - 85s 2ms/sample - loss: 0.0335 - val_loss: 0.0200\n"
          ],
          "name": "stdout"
        }
      ]
    },
    {
      "cell_type": "code",
      "metadata": {
        "id": "elqOQWsY2aKW",
        "colab_type": "code",
        "colab": {}
      },
      "source": [
        "def compute_accuracy(y_true, y_pred):\n",
        "  '''\n",
        "  Compute accuracy\n",
        "  '''\n",
        "  true = 0\n",
        "  n = y_true.shape[0]\n",
        "  for i in range(n):\n",
        "    true += (y_true[i] == y_pred[i])\n",
        "  return true / n"
      ],
      "execution_count": 0,
      "outputs": []
    },
    {
      "cell_type": "code",
      "metadata": {
        "id": "ZAgYv9Xcodmi",
        "colab_type": "code",
        "colab": {}
      },
      "source": [
        "def find_embedding(model, data_train, embedding_size):\n",
        "  '''\n",
        "  Get 1 random image for each label (sum: 10 img)\n",
        "  Find the embedding vector for each image\n",
        "  '''\n",
        "  nothing = np.zeros((28, 28, 1))\n",
        "  embedding_vect = []\n",
        "  for i in range(10):\n",
        "    m = data_test[i].shape[0]\n",
        "    rd_pos = np.random.randint(0, m)\n",
        "    img = data_test[i][rd_pos]\n",
        "    y_pred = model.predict([[img], [nothing], [nothing]])\n",
        "    embedding_vect.append(y_pred[0][:embedding_size])\n",
        "  return np.array(embedding_vect), np.arange(10)"
      ],
      "execution_count": 0,
      "outputs": []
    },
    {
      "cell_type": "code",
      "metadata": {
        "id": "5LApbLoqOEd5",
        "colab_type": "code",
        "colab": {}
      },
      "source": [
        "## embedding vector for 10 images from the training set\n",
        "embedding_ref, embedding_labels = find_embedding(model, data_train, 10)"
      ],
      "execution_count": 0,
      "outputs": []
    },
    {
      "cell_type": "code",
      "metadata": {
        "id": "sddtVwVlwjdd",
        "colab_type": "code",
        "colab": {
          "base_uri": "https://localhost:8080/",
          "height": 69
        },
        "outputId": "0935766e-ea59-4a7c-e25e-ffc21dfdb545"
      },
      "source": [
        "## KNN model\n",
        "neigh_model = KNeighborsClassifier(n_neighbors=1)\n",
        "neigh_model.fit(embedding_ref, embedding_labels)"
      ],
      "execution_count": 134,
      "outputs": [
        {
          "output_type": "execute_result",
          "data": {
            "text/plain": [
              "KNeighborsClassifier(algorithm='auto', leaf_size=30, metric='minkowski',\n",
              "                     metric_params=None, n_jobs=None, n_neighbors=1, p=2,\n",
              "                     weights='uniform')"
            ]
          },
          "metadata": {
            "tags": []
          },
          "execution_count": 134
        }
      ]
    },
    {
      "cell_type": "code",
      "metadata": {
        "id": "Xk_5nyDGuHhb",
        "colab_type": "code",
        "colab": {}
      },
      "source": [
        "## make predictions\n",
        "to_pred = X_test[:1000] ## data we want to predict\n",
        "y_true = y_test[:1000] ## label of the data to predict\n",
        "nothing = np.zeros((to_pred.shape[0], 28, 28, 1))\n",
        "\n",
        "pred = model.predict([to_pred, nothing, nothing])[:, 0:10]\n",
        "y_pred = neigh_model.predict(pred)"
      ],
      "execution_count": 0,
      "outputs": []
    },
    {
      "cell_type": "code",
      "metadata": {
        "id": "7mEm3RqI2SWB",
        "colab_type": "code",
        "colab": {
          "base_uri": "https://localhost:8080/",
          "height": 34
        },
        "outputId": "f7e3c28b-a9db-4254-b259-a794180f9808"
      },
      "source": [
        "acc = compute_accuracy(y_true, y_pred)\n",
        "print(acc)"
      ],
      "execution_count": 152,
      "outputs": [
        {
          "output_type": "stream",
          "text": [
            "0.843\n"
          ],
          "name": "stdout"
        }
      ]
    },
    {
      "cell_type": "code",
      "metadata": {
        "id": "yBz33MZx2zf_",
        "colab_type": "code",
        "colab": {}
      },
      "source": [
        "### Quite low accuracy because the model has learnt from easy triplet and not from hard triplet\n",
        "### Here triplet batches have been generated randomly\n",
        "### One way to improve this work: create a function that generate hard triplet batch"
      ],
      "execution_count": 0,
      "outputs": []
    },
    {
      "cell_type": "code",
      "metadata": {
        "id": "rmYc-qJ73ZhN",
        "colab_type": "code",
        "colab": {}
      },
      "source": [
        ""
      ],
      "execution_count": 0,
      "outputs": []
    }
  ]
}