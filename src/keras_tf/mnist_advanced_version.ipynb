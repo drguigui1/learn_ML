{
 "cells": [
  {
   "cell_type": "code",
   "execution_count": 16,
   "metadata": {},
   "outputs": [],
   "source": [
    "import tensorflow as tf\n",
    "from tensorflow.keras.layers import Dense, Conv2D, Flatten\n",
    "from tensorflow.keras import Model\n",
    "import numpy as np"
   ]
  },
  {
   "cell_type": "code",
   "execution_count": 11,
   "metadata": {},
   "outputs": [],
   "source": [
    "## load data\n",
    "(X_train, y_train), (X_test, y_test) = tf.keras.datasets.mnist.load_data()\n",
    "X_train = X_train / 255.0\n",
    "X_test = X_test / 255.0"
   ]
  },
  {
   "cell_type": "code",
   "execution_count": 12,
   "metadata": {},
   "outputs": [
    {
     "name": "stdout",
     "output_type": "stream",
     "text": [
      "(60000, 28, 28)\n",
      "(10000, 28, 28)\n"
     ]
    }
   ],
   "source": [
    "print(X_train.shape)\n",
    "print(X_test.shape)"
   ]
  },
  {
   "cell_type": "code",
   "execution_count": 28,
   "metadata": {},
   "outputs": [],
   "source": [
    "## Add channel dim\n",
    "X_train = X_train[:, :, :, tf.newaxis]\n",
    "X_test = X_test[..., tf.newaxis] ## equivalent version"
   ]
  },
  {
   "cell_type": "code",
   "execution_count": 29,
   "metadata": {},
   "outputs": [
    {
     "name": "stdout",
     "output_type": "stream",
     "text": [
      "(60000, 28, 28, 1)\n",
      "(10000, 28, 28, 1)\n"
     ]
    }
   ],
   "source": [
    "print(X_train.shape)\n",
    "print(X_test.shape)"
   ]
  },
  {
   "cell_type": "code",
   "execution_count": 42,
   "metadata": {},
   "outputs": [],
   "source": [
    "## create tensor for each element tuple (tensor for data, tensor for labels)\n",
    "## shuffle all the data\n",
    "## and create batches\n",
    "train_ds = tf.data.Dataset.from_tensor_slices((X_train, y_train)).shuffle(10000).batch(32)\n",
    "test_ds = tf.data.Dataset.from_tensor_slices((X_test, y_test)).batch(32)"
   ]
  },
  {
   "cell_type": "code",
   "execution_count": 44,
   "metadata": {},
   "outputs": [],
   "source": [
    "## class for our model (model subclassing)\n",
    "class my_model(Model):\n",
    "    def __init__(self):\n",
    "        super(my_model, self).__init__()\n",
    "        self.conv1 = Conv2D(32, 3, activation='relu')\n",
    "        self.flatten = Flatten()\n",
    "        self.dense1 = Dense(30, activation='relu')\n",
    "        self.dense2 = Dense(10) ## no activation here\n",
    "    \n",
    "    def call(self, x): ## x: our input\n",
    "        x = self.conv1 (x)\n",
    "        x = self.flatten (x)\n",
    "        x = self.dense1 (x)\n",
    "        return self.dense2 (x)      "
   ]
  },
  {
   "cell_type": "code",
   "execution_count": 45,
   "metadata": {},
   "outputs": [],
   "source": [
    "model = my_model()"
   ]
  },
  {
   "cell_type": "code",
   "execution_count": 47,
   "metadata": {},
   "outputs": [],
   "source": [
    "## define our loss\n",
    "## define our optimizer\n",
    "## define metrics to measure loss/accuracy\n",
    "\n",
    "loss_obj = tf.keras.losses.SparseCategoricalCrossentropy(from_logits=True)\n",
    "optimizer = tf.keras.optimizers.Adam()\n",
    "\n",
    "train_loss = tf.keras.metrics.Mean(name='train_loss') ## metrics -> what will be printed on screen during training\n",
    "train_acc = tf.keras.metrics.SparseCategoricalAccuracy(name='train_acc')\n",
    "\n",
    "test_loss = tf.keras.metrics.Mean(name='test_loss')\n",
    "test_acc = tf.keras.metrics.SparseCategoricalAccuracy(name='test_acc')"
   ]
  },
  {
   "cell_type": "code",
   "execution_count": 55,
   "metadata": {},
   "outputs": [],
   "source": [
    "@tf.function\n",
    "def train_step(images, labels):\n",
    "    with tf.GradientTape() as tape: ## tf.GradientTape to train the model\n",
    "        predictions = model(images, training=True) ## Put training at True\n",
    "        loss = loss_obj(labels, predictions) ## target - predictions\n",
    "    gradients = tape.gradient(loss, model.trainable_variables)\n",
    "    optimizer.apply_gradients(zip(gradients, model.trainable_variables))\n",
    "    \n",
    "    train_loss(loss)\n",
    "    train_acc(labels, predictions)"
   ]
  },
  {
   "cell_type": "code",
   "execution_count": 56,
   "metadata": {},
   "outputs": [],
   "source": [
    "@tf.function\n",
    "def test_step(images, labels):\n",
    "    predictions = model(images, training=False)\n",
    "    loss = loss_obj(labels, predictions)\n",
    "    \n",
    "    test_loss(loss)\n",
    "    test_acc(labels, predictions)"
   ]
  },
  {
   "cell_type": "code",
   "execution_count": 61,
   "metadata": {},
   "outputs": [],
   "source": [
    "def training(train_datas, test_datas, model, epochs, train_loss, train_acc, test_loss, test_acc):\n",
    "    '''\n",
    "    Train our model\n",
    "    train_datas: tf tensor with tuples (batched data, vector of labels)\n",
    "    test_datas: tf tensor with tuples (batched data, vector of labels)\n",
    "    model: model built\n",
    "    epochs: nbr of epochs\n",
    "    train_loss: metrics function to compute and print the training loss (tf.keras.metrics.*)\n",
    "    train_acc: metrics function to compute and print the training accuracy (tf.keras.metrics.*)\n",
    "    test_loss: metrics function to compute and print the testing loss (tf.keras.metrics.*)\n",
    "    trest_acc: metrics function to compute and print the testing accuracy (tf.keras.metrics.*)\n",
    "    '''\n",
    "    for epoch in range(epochs):\n",
    "        # reset metrics at the start of each epoch\n",
    "        train_loss.reset_states()\n",
    "        train_acc.reset_states()\n",
    "        test_loss.reset_states()\n",
    "        test_acc.reset_states()\n",
    "        \n",
    "        for images, labels in train_datas:\n",
    "            train_step(images, labels)\n",
    "        for images, labels in test_datas:\n",
    "            test_step(images, labels)\n",
    "            \n",
    "        template = 'Epoch {}, Loss: {}, Accuracy: {}, Test Loss: {}, Test Accuracy: {}'\n",
    "        print(template.format(epoch+1,\n",
    "                        train_loss.result(),\n",
    "                        train_acc.result(),\n",
    "                        test_loss.result(),\n",
    "                        test_acc.result()))\n"
   ]
  },
  {
   "cell_type": "code",
   "execution_count": 62,
   "metadata": {},
   "outputs": [
    {
     "name": "stdout",
     "output_type": "stream",
     "text": [
      "Epoch 1, Loss: 0.013752027414739132, Accuracy: 0.9952166676521301, Test Loss: 0.0707167312502861, Test Accuracy: 0.9818000197410583\n",
      "Epoch 2, Loss: 0.010401680134236813, Accuracy: 0.9965999722480774, Test Loss: 0.06813216954469681, Test Accuracy: 0.9819999933242798\n",
      "Epoch 3, Loss: 0.007962152361869812, Accuracy: 0.9973000288009644, Test Loss: 0.07883007079362869, Test Accuracy: 0.9829000234603882\n",
      "Epoch 4, Loss: 0.006514339707791805, Accuracy: 0.9978500008583069, Test Loss: 0.08836805820465088, Test Accuracy: 0.98089998960495\n"
     ]
    }
   ],
   "source": [
    "training(train_ds, test_ds, model, 4, train_loss, train_acc, test_loss, test_acc)"
   ]
  },
  {
   "cell_type": "code",
   "execution_count": null,
   "metadata": {},
   "outputs": [],
   "source": []
  }
 ],
 "metadata": {
  "kernelspec": {
   "display_name": "env_jupy_ml",
   "language": "python",
   "name": "env_jupy_ml"
  },
  "language_info": {
   "codemirror_mode": {
    "name": "ipython",
    "version": 3
   },
   "file_extension": ".py",
   "mimetype": "text/x-python",
   "name": "python",
   "nbconvert_exporter": "python",
   "pygments_lexer": "ipython3",
   "version": "3.8.1"
  }
 },
 "nbformat": 4,
 "nbformat_minor": 2
}
