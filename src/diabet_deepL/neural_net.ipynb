{
 "cells": [
  {
   "cell_type": "code",
   "execution_count": 2,
   "metadata": {},
   "outputs": [],
   "source": [
    "from numpy import loadtxt\n",
    "from keras.models import Sequential\n",
    "from keras.layers import Dense"
   ]
  },
  {
   "cell_type": "code",
   "execution_count": 3,
   "metadata": {},
   "outputs": [],
   "source": [
    "# load dataset\n",
    "dataset = loadtxt('dataset.csv', delimiter=',')"
   ]
  },
  {
   "cell_type": "code",
   "execution_count": 11,
   "metadata": {},
   "outputs": [
    {
     "name": "stdout",
     "output_type": "stream",
     "text": [
      "<class 'numpy.ndarray'>\n",
      "[  6.    148.     72.     35.      0.     33.6     0.627  50.   ]\n",
      "1.0\n"
     ]
    }
   ],
   "source": [
    "print(type(dataset))\n",
    "print(dataset[:,0:8][0])\n",
    "print(dataset[:,8][0])"
   ]
  },
  {
   "cell_type": "code",
   "execution_count": 14,
   "metadata": {},
   "outputs": [],
   "source": [
    "features = dataset[:,0:8]\n",
    "labels = dataset[:,8]"
   ]
  },
  {
   "cell_type": "code",
   "execution_count": 70,
   "metadata": {},
   "outputs": [],
   "source": [
    "model = Sequential()\n",
    "model.add(Dense(12, input_dim=8, activation='relu'))\n",
    "model.add(Dense(30, activation='relu'))\n",
    "model.add(Dense(1, activation='sigmoid'))"
   ]
  },
  {
   "cell_type": "code",
   "execution_count": 50,
   "metadata": {},
   "outputs": [],
   "source": [
    "# binary crossentropy -> only for output in [0,1]\n",
    "# make research on binary crossentropy\n",
    "# make research on adam optimizer\n",
    "# make research on metrics param"
   ]
  },
  {
   "cell_type": "code",
   "execution_count": 71,
   "metadata": {},
   "outputs": [],
   "source": [
    "# compile the model\n",
    "model.compile(loss='binary_crossentropy', optimizer='adam', metrics=['accuracy'])"
   ]
  },
  {
   "cell_type": "code",
   "execution_count": 79,
   "metadata": {},
   "outputs": [
    {
     "name": "stdout",
     "output_type": "stream",
     "text": [
      "Epoch 1/100\n",
      "768/768 [==============================] - 0s 530us/step - loss: 0.2995 - accuracy: 0.8672\n",
      "Epoch 2/100\n",
      "768/768 [==============================] - 0s 563us/step - loss: 0.3082 - accuracy: 0.8685\n",
      "Epoch 3/100\n",
      "768/768 [==============================] - 0s 632us/step - loss: 0.3102 - accuracy: 0.8594\n",
      "Epoch 4/100\n",
      "768/768 [==============================] - 0s 567us/step - loss: 0.3254 - accuracy: 0.8594\n",
      "Epoch 5/100\n",
      "768/768 [==============================] - 0s 493us/step - loss: 0.3439 - accuracy: 0.8477\n",
      "Epoch 6/100\n",
      "768/768 [==============================] - 0s 502us/step - loss: 0.3221 - accuracy: 0.8711\n",
      "Epoch 7/100\n",
      "768/768 [==============================] - 0s 580us/step - loss: 0.2996 - accuracy: 0.8724\n",
      "Epoch 8/100\n",
      "768/768 [==============================] - 0s 338us/step - loss: 0.3099 - accuracy: 0.8581\n",
      "Epoch 9/100\n",
      "768/768 [==============================] - 0s 263us/step - loss: 0.3058 - accuracy: 0.8659\n",
      "Epoch 10/100\n",
      "768/768 [==============================] - 0s 281us/step - loss: 0.3063 - accuracy: 0.8620\n",
      "Epoch 11/100\n",
      "768/768 [==============================] - 0s 281us/step - loss: 0.3199 - accuracy: 0.8542\n",
      "Epoch 12/100\n",
      "768/768 [==============================] - 0s 241us/step - loss: 0.2983 - accuracy: 0.8711\n",
      "Epoch 13/100\n",
      "768/768 [==============================] - 0s 216us/step - loss: 0.3001 - accuracy: 0.8724\n",
      "Epoch 14/100\n",
      "768/768 [==============================] - 0s 286us/step - loss: 0.3041 - accuracy: 0.8685\n",
      "Epoch 15/100\n",
      "768/768 [==============================] - 0s 276us/step - loss: 0.3051 - accuracy: 0.8620\n",
      "Epoch 16/100\n",
      "768/768 [==============================] - 0s 280us/step - loss: 0.2982 - accuracy: 0.8698\n",
      "Epoch 17/100\n",
      "768/768 [==============================] - 0s 260us/step - loss: 0.3376 - accuracy: 0.8555\n",
      "Epoch 18/100\n",
      "768/768 [==============================] - 0s 290us/step - loss: 0.3254 - accuracy: 0.8607\n",
      "Epoch 19/100\n",
      "768/768 [==============================] - 0s 296us/step - loss: 0.3020 - accuracy: 0.8685\n",
      "Epoch 20/100\n",
      "768/768 [==============================] - 0s 289us/step - loss: 0.3064 - accuracy: 0.8503\n",
      "Epoch 21/100\n",
      "768/768 [==============================] - 0s 276us/step - loss: 0.3819 - accuracy: 0.8385\n",
      "Epoch 22/100\n",
      "768/768 [==============================] - 0s 216us/step - loss: 0.3546 - accuracy: 0.8411\n",
      "Epoch 23/100\n",
      "768/768 [==============================] - 0s 268us/step - loss: 0.3337 - accuracy: 0.8581\n",
      "Epoch 24/100\n",
      "768/768 [==============================] - 0s 296us/step - loss: 0.2998 - accuracy: 0.8633\n",
      "Epoch 25/100\n",
      "768/768 [==============================] - 0s 280us/step - loss: 0.2980 - accuracy: 0.8646\n",
      "Epoch 26/100\n",
      "768/768 [==============================] - 0s 281us/step - loss: 0.2875 - accuracy: 0.8776\n",
      "Epoch 27/100\n",
      "768/768 [==============================] - 0s 296us/step - loss: 0.2985 - accuracy: 0.8750\n",
      "Epoch 28/100\n",
      "768/768 [==============================] - 0s 265us/step - loss: 0.2959 - accuracy: 0.8737\n",
      "Epoch 29/100\n",
      "768/768 [==============================] - 0s 278us/step - loss: 0.3037 - accuracy: 0.8724\n",
      "Epoch 30/100\n",
      "768/768 [==============================] - 0s 285us/step - loss: 0.3056 - accuracy: 0.8646\n",
      "Epoch 31/100\n",
      "768/768 [==============================] - 0s 225us/step - loss: 0.2989 - accuracy: 0.8750\n",
      "Epoch 32/100\n",
      "768/768 [==============================] - 0s 232us/step - loss: 0.3466 - accuracy: 0.8542\n",
      "Epoch 33/100\n",
      "768/768 [==============================] - 0s 251us/step - loss: 0.3102 - accuracy: 0.8750\n",
      "Epoch 34/100\n",
      "768/768 [==============================] - 0s 269us/step - loss: 0.3155 - accuracy: 0.8633\n",
      "Epoch 35/100\n",
      "768/768 [==============================] - 0s 264us/step - loss: 0.3305 - accuracy: 0.8568\n",
      "Epoch 36/100\n",
      "768/768 [==============================] - 0s 299us/step - loss: 0.3151 - accuracy: 0.8672\n",
      "Epoch 37/100\n",
      "768/768 [==============================] - 0s 281us/step - loss: 0.3087 - accuracy: 0.8607\n",
      "Epoch 38/100\n",
      "768/768 [==============================] - 0s 249us/step - loss: 0.3180 - accuracy: 0.8594\n",
      "Epoch 39/100\n",
      "768/768 [==============================] - 0s 283us/step - loss: 0.3255 - accuracy: 0.8542\n",
      "Epoch 40/100\n",
      "768/768 [==============================] - 0s 247us/step - loss: 0.3097 - accuracy: 0.8503\n",
      "Epoch 41/100\n",
      "768/768 [==============================] - 0s 207us/step - loss: 0.3185 - accuracy: 0.8542\n",
      "Epoch 42/100\n",
      "768/768 [==============================] - 0s 235us/step - loss: 0.3062 - accuracy: 0.8750\n",
      "Epoch 43/100\n",
      "768/768 [==============================] - 0s 269us/step - loss: 0.2966 - accuracy: 0.8711\n",
      "Epoch 44/100\n",
      "768/768 [==============================] - 0s 295us/step - loss: 0.2972 - accuracy: 0.8685\n",
      "Epoch 45/100\n",
      "768/768 [==============================] - 0s 298us/step - loss: 0.2975 - accuracy: 0.8646\n",
      "Epoch 46/100\n",
      "768/768 [==============================] - 0s 305us/step - loss: 0.3127 - accuracy: 0.8659\n",
      "Epoch 47/100\n",
      "768/768 [==============================] - 0s 299us/step - loss: 0.3117 - accuracy: 0.8568\n",
      "Epoch 48/100\n",
      "768/768 [==============================] - 0s 289us/step - loss: 0.3064 - accuracy: 0.8607\n",
      "Epoch 49/100\n",
      "768/768 [==============================] - 0s 277us/step - loss: 0.3032 - accuracy: 0.8633\n",
      "Epoch 50/100\n",
      "768/768 [==============================] - 0s 219us/step - loss: 0.2968 - accuracy: 0.8633\n",
      "Epoch 51/100\n",
      "768/768 [==============================] - 0s 187us/step - loss: 0.3084 - accuracy: 0.8659\n",
      "Epoch 52/100\n",
      "768/768 [==============================] - 0s 200us/step - loss: 0.2969 - accuracy: 0.8815\n",
      "Epoch 53/100\n",
      "768/768 [==============================] - 0s 262us/step - loss: 0.3131 - accuracy: 0.8620\n",
      "Epoch 54/100\n",
      "768/768 [==============================] - 0s 232us/step - loss: 0.2993 - accuracy: 0.8646\n",
      "Epoch 55/100\n",
      "768/768 [==============================] - 0s 218us/step - loss: 0.2905 - accuracy: 0.8763\n",
      "Epoch 56/100\n",
      "768/768 [==============================] - 0s 216us/step - loss: 0.2968 - accuracy: 0.8763\n",
      "Epoch 57/100\n",
      "768/768 [==============================] - 0s 245us/step - loss: 0.2922 - accuracy: 0.8607\n",
      "Epoch 58/100\n",
      "768/768 [==============================] - 0s 264us/step - loss: 0.3011 - accuracy: 0.8685\n",
      "Epoch 59/100\n",
      "768/768 [==============================] - 0s 263us/step - loss: 0.2823 - accuracy: 0.8828\n",
      "Epoch 60/100\n",
      "768/768 [==============================] - 0s 264us/step - loss: 0.2930 - accuracy: 0.8698\n",
      "Epoch 61/100\n",
      "768/768 [==============================] - 0s 209us/step - loss: 0.3188 - accuracy: 0.8594\n",
      "Epoch 62/100\n",
      "768/768 [==============================] - 0s 176us/step - loss: 0.3137 - accuracy: 0.8672\n",
      "Epoch 63/100\n",
      "768/768 [==============================] - 0s 211us/step - loss: 0.3499 - accuracy: 0.8464\n",
      "Epoch 64/100\n",
      "768/768 [==============================] - 0s 254us/step - loss: 0.3437 - accuracy: 0.8516\n",
      "Epoch 65/100\n",
      "768/768 [==============================] - 0s 237us/step - loss: 0.3454 - accuracy: 0.8503\n",
      "Epoch 66/100\n",
      "768/768 [==============================] - 0s 222us/step - loss: 0.3090 - accuracy: 0.8581\n",
      "Epoch 67/100\n",
      "768/768 [==============================] - 0s 253us/step - loss: 0.3102 - accuracy: 0.8672\n",
      "Epoch 68/100\n",
      "768/768 [==============================] - 0s 264us/step - loss: 0.3037 - accuracy: 0.8646\n",
      "Epoch 69/100\n",
      "768/768 [==============================] - 0s 250us/step - loss: 0.3049 - accuracy: 0.8646\n",
      "Epoch 70/100\n",
      "768/768 [==============================] - 0s 246us/step - loss: 0.3080 - accuracy: 0.8594\n",
      "Epoch 71/100\n",
      "768/768 [==============================] - 0s 259us/step - loss: 0.3008 - accuracy: 0.8568\n",
      "Epoch 72/100\n",
      "768/768 [==============================] - 0s 218us/step - loss: 0.2892 - accuracy: 0.8776\n",
      "Epoch 73/100\n",
      "768/768 [==============================] - 0s 189us/step - loss: 0.3254 - accuracy: 0.8568\n",
      "Epoch 74/100\n",
      "768/768 [==============================] - 0s 246us/step - loss: 0.2993 - accuracy: 0.8711\n",
      "Epoch 75/100\n",
      "768/768 [==============================] - 0s 274us/step - loss: 0.3027 - accuracy: 0.8724\n",
      "Epoch 76/100\n",
      "768/768 [==============================] - 0s 236us/step - loss: 0.2991 - accuracy: 0.8698\n",
      "Epoch 77/100\n",
      "768/768 [==============================] - 0s 257us/step - loss: 0.3070 - accuracy: 0.8672\n",
      "Epoch 78/100\n",
      "768/768 [==============================] - 0s 262us/step - loss: 0.2964 - accuracy: 0.8633\n",
      "Epoch 79/100\n"
     ]
    },
    {
     "name": "stdout",
     "output_type": "stream",
     "text": [
      "768/768 [==============================] - 0s 239us/step - loss: 0.3034 - accuracy: 0.8711\n",
      "Epoch 80/100\n",
      "768/768 [==============================] - 0s 194us/step - loss: 0.3169 - accuracy: 0.8685\n",
      "Epoch 81/100\n",
      "768/768 [==============================] - 0s 206us/step - loss: 0.3018 - accuracy: 0.8581\n",
      "Epoch 82/100\n",
      "768/768 [==============================] - 0s 199us/step - loss: 0.3186 - accuracy: 0.8607\n",
      "Epoch 83/100\n",
      "768/768 [==============================] - 0s 181us/step - loss: 0.3058 - accuracy: 0.8737\n",
      "Epoch 84/100\n",
      "768/768 [==============================] - 0s 137us/step - loss: 0.3352 - accuracy: 0.8581\n",
      "Epoch 85/100\n",
      "768/768 [==============================] - 0s 138us/step - loss: 0.3004 - accuracy: 0.8724\n",
      "Epoch 86/100\n",
      "768/768 [==============================] - 0s 215us/step - loss: 0.3212 - accuracy: 0.8594\n",
      "Epoch 87/100\n",
      "768/768 [==============================] - 0s 201us/step - loss: 0.2884 - accuracy: 0.8698\n",
      "Epoch 88/100\n",
      "768/768 [==============================] - 0s 206us/step - loss: 0.3015 - accuracy: 0.8568\n",
      "Epoch 89/100\n",
      "768/768 [==============================] - 0s 195us/step - loss: 0.3212 - accuracy: 0.8594\n",
      "Epoch 90/100\n",
      "768/768 [==============================] - 0s 210us/step - loss: 0.3354 - accuracy: 0.8568\n",
      "Epoch 91/100\n",
      "768/768 [==============================] - 0s 220us/step - loss: 0.2926 - accuracy: 0.8750\n",
      "Epoch 92/100\n",
      "768/768 [==============================] - 0s 213us/step - loss: 0.3035 - accuracy: 0.8594\n",
      "Epoch 93/100\n",
      "768/768 [==============================] - 0s 219us/step - loss: 0.3127 - accuracy: 0.8659\n",
      "Epoch 94/100\n",
      "768/768 [==============================] - 0s 211us/step - loss: 0.3693 - accuracy: 0.8359\n",
      "Epoch 95/100\n",
      "768/768 [==============================] - 0s 205us/step - loss: 0.3070 - accuracy: 0.8646\n",
      "Epoch 96/100\n",
      "768/768 [==============================] - 0s 173us/step - loss: 0.2907 - accuracy: 0.8737\n",
      "Epoch 97/100\n",
      "768/768 [==============================] - 0s 138us/step - loss: 0.3187 - accuracy: 0.8620\n",
      "Epoch 98/100\n",
      "768/768 [==============================] - 0s 142us/step - loss: 0.2929 - accuracy: 0.8737\n",
      "Epoch 99/100\n",
      "768/768 [==============================] - 0s 196us/step - loss: 0.3083 - accuracy: 0.8685\n",
      "Epoch 100/100\n",
      "768/768 [==============================] - 0s 215us/step - loss: 0.2938 - accuracy: 0.8737\n"
     ]
    },
    {
     "data": {
      "text/plain": [
       "<keras.callbacks.callbacks.History at 0x7fe9556cd690>"
      ]
     },
     "execution_count": 79,
     "metadata": {},
     "output_type": "execute_result"
    }
   ],
   "source": [
    "# fit the model (train)\n",
    "model.fit(features, labels, epochs=100, batch_size=10)"
   ]
  },
  {
   "cell_type": "code",
   "execution_count": 80,
   "metadata": {},
   "outputs": [
    {
     "name": "stdout",
     "output_type": "stream",
     "text": [
      "768/768 [==============================] - 0s 90us/step\n",
      "0.8802083134651184\n",
      "0.2749301878114541\n"
     ]
    }
   ],
   "source": [
    "# evaluate the model (test if the model is good or not)\n",
    "loss, accuracy = model.evaluate(features, labels)\n",
    "print(accuracy)\n",
    "print(loss)"
   ]
  },
  {
   "cell_type": "code",
   "execution_count": 81,
   "metadata": {},
   "outputs": [],
   "source": [
    "# make predictions\n",
    "predictions = model.predict_classes(features)\n"
   ]
  },
  {
   "cell_type": "code",
   "execution_count": 82,
   "metadata": {},
   "outputs": [
    {
     "name": "stdout",
     "output_type": "stream",
     "text": [
      "Test N.0 => 1 (expected 1.0)\n",
      "Test N.1 => 0 (expected 0.0)\n",
      "Test N.2 => 1 (expected 1.0)\n",
      "Test N.3 => 0 (expected 0.0)\n",
      "Test N.4 => 1 (expected 1.0)\n",
      "Test N.5 => 0 (expected 0.0)\n",
      "Test N.6 => 0 (expected 1.0)\n",
      "Test N.7 => 0 (expected 0.0)\n",
      "Test N.8 => 1 (expected 1.0)\n",
      "Test N.9 => 1 (expected 1.0)\n"
     ]
    }
   ],
   "source": [
    "# display 10 firsts values\n",
    "for i in range(10):\n",
    "    print(\"Test N.\" + str(i) + \" => \" + str(predictions[i][0]) + \" (expected {})\".format(labels[i]))"
   ]
  }
 ],
 "metadata": {
  "kernelspec": {
   "display_name": "keras",
   "language": "python",
   "name": "keras"
  },
  "language_info": {
   "codemirror_mode": {
    "name": "ipython",
    "version": 3
   },
   "file_extension": ".py",
   "mimetype": "text/x-python",
   "name": "python",
   "nbconvert_exporter": "python",
   "pygments_lexer": "ipython3",
   "version": "3.7.4"
  }
 },
 "nbformat": 4,
 "nbformat_minor": 2
}
