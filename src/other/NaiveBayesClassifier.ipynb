{
  "nbformat": 4,
  "nbformat_minor": 0,
  "metadata": {
    "colab": {
      "name": "NaiveBayesClassifier.ipynb",
      "provenance": []
    },
    "kernelspec": {
      "name": "python3",
      "display_name": "Python 3"
    }
  },
  "cells": [
    {
      "cell_type": "code",
      "metadata": {
        "id": "6HpnB3QvPrkM",
        "colab_type": "code",
        "colab": {}
      },
      "source": [
        "import numpy as np\n",
        "import math\n",
        "from scipy.stats import multivariate_normal\n",
        "from keras import datasets\n",
        "from sklearn.utils import shuffle\n",
        "from mlxtend.data import loadlocal_mnist"
      ],
      "execution_count": 0,
      "outputs": []
    },
    {
      "cell_type": "code",
      "metadata": {
        "id": "kooOvzAlPwnq",
        "colab_type": "code",
        "colab": {}
      },
      "source": [
        "def generate_semi_definite(dim):\n",
        "    '''\n",
        "    generate a semi definite matrix to be sure that the matrix is inversible\n",
        "    '''\n",
        "    tmp = np.random.rand(dim, dim)\n",
        "    return np.dot(tmp.T, tmp)"
      ],
      "execution_count": 0,
      "outputs": []
    },
    {
      "cell_type": "code",
      "metadata": {
        "id": "UC2Rnfx3P18O",
        "colab_type": "code",
        "colab": {}
      },
      "source": [
        "def compute_cov(X, mean):\n",
        "    '''\n",
        "    Compute the covariance of the data\n",
        "    '''\n",
        "    n, dim = X.shape\n",
        "    mean = np.reshape(mean, (dim, 1))\n",
        "    res = np.zeros((dim, dim))\n",
        "    for i in range(n):\n",
        "        x = X[i]\n",
        "        x = np.reshape(x, (dim, 1))\n",
        "        res = np.add(res, np.dot((x - mean), (x - mean).T))\n",
        "    tmp = res / n\n",
        "    return np.dot(tmp.T, tmp)"
      ],
      "execution_count": 0,
      "outputs": []
    },
    {
      "cell_type": "code",
      "metadata": {
        "id": "53DGkU8bP6wh",
        "colab_type": "code",
        "colab": {}
      },
      "source": [
        "class GaussianClassifier:\n",
        "    def __init__(self, nb_gaussian, dim, cov_type='identity'):\n",
        "        '''\n",
        "        Instantiation of the gausian classifier\n",
        "        nb_gaussian: number of gaussian to create\n",
        "        cov_type: type of covariance matrix, can be: ['identity', 'same', 'unique']\n",
        "        dim: dimension of the data\n",
        "        'identity': all the gaussian have the identity covariance\n",
        "        'same': all the gaussian have the same random \n",
        "        '''\n",
        "        self.nb_gaussian = nb_gaussian\n",
        "        self.cov_type = cov_type\n",
        "        \n",
        "        ## \n",
        "        self.means = np.zeros((nb_gaussian, dim))\n",
        "        self.covs = np.zeros((nb_gaussian, dim, dim))\n",
        "    \n",
        "    def fit(self, X, y):\n",
        "        '''\n",
        "        Fit the Gaussian Classifier\n",
        "        Compute the mean and the covariance for each gaussian\n",
        "        X: datas\n",
        "        y: labels\n",
        "        '''\n",
        "        n, dim = X.shape\n",
        "        \n",
        "        if (self.cov_type == 'same'): ## same covariance for all gaussian\n",
        "            self.covs = generate_semi_definite(dim)\n",
        "        \n",
        "        for i in range(self.nb_gaussian):\n",
        "            ## compute the mean for each gaussian\n",
        "            datas = X[y == i] ## get the data that have the label i\n",
        "            self.means[i] = np.mean(datas, axis=0)\n",
        "            if (self.cov_type == 'identity'): ## identity covariance for all gaussian\n",
        "                self.covs[i] = np.identity(dim)\n",
        "            elif (self.cov_type == 'unique'):\n",
        "                self.covs[i] = compute_cov(datas, self.means[i])\n",
        "    \n",
        "    def predict(self, X):\n",
        "        '''\n",
        "        Predict many data points\n",
        "        X: vector of many data points\n",
        "        '''\n",
        "        res = np.zeros(X.shape[0])\n",
        "        for i in range(X.shape[0]):\n",
        "            pred = np.zeros(self.nb_gaussian) ## predictions for all gaussian\n",
        "            for j in range(self.nb_gaussian):\n",
        "                pred[j] = multivariate_normal.logpdf(X[i], self.means[j], self.covs[j])\n",
        "            print(\"Prediction nb {}\".format(i))\n",
        "            res[i] = np.argmax(pred)\n",
        "        return res"
      ],
      "execution_count": 0,
      "outputs": []
    },
    {
      "cell_type": "code",
      "metadata": {
        "id": "fNk5lQvoP9ch",
        "colab_type": "code",
        "colab": {}
      },
      "source": [
        "def measure_accuracy(predictions, y):\n",
        "    '''\n",
        "    Measure the accuracy of a model\n",
        "    predicitons: vector of predictions (label prediction)\n",
        "    y: vector of the real labels of the data\n",
        "    '''\n",
        "    n = predictions.shape[0]\n",
        "    nb_good = 0\n",
        "    for i in range(n):\n",
        "        nb_good += (predictions[i] == y[i])\n",
        "        print(\"prediction: {}   expected: {}\".format(int(predictions[i]), y[i]))\n",
        "    return nb_good / n"
      ],
      "execution_count": 0,
      "outputs": []
    },
    {
      "cell_type": "code",
      "metadata": {
        "id": "rZYomOJ8P_cu",
        "colab_type": "code",
        "colab": {}
      },
      "source": [
        "(X_train, y_train), (X_test, y_test) = datasets.mnist.load_data()"
      ],
      "execution_count": 0,
      "outputs": []
    },
    {
      "cell_type": "code",
      "metadata": {
        "id": "EejOE9rFQpLH",
        "colab_type": "code",
        "colab": {}
      },
      "source": [
        "X_train = np.reshape(X_train, (60000, 784))\n",
        "X_test = np.reshape(X_test, (10000, 784))"
      ],
      "execution_count": 0,
      "outputs": []
    },
    {
      "cell_type": "code",
      "metadata": {
        "id": "PkHhasjQQQPz",
        "colab_type": "code",
        "colab": {}
      },
      "source": [
        "model_id = GaussianClassifier(nb_gaussian=10, dim=784, cov_type='identity')\n",
        "model_same = GaussianClassifier(nb_gaussian=10, dim=784, cov_type='same')\n",
        "model_unique = GaussianClassifier(nb_gaussian=10, dim=784, cov_type='unique')"
      ],
      "execution_count": 0,
      "outputs": []
    },
    {
      "cell_type": "code",
      "metadata": {
        "id": "D0x8EwB1Q1a2",
        "colab_type": "code",
        "colab": {}
      },
      "source": [
        "## fit the 3 model\n",
        "model_id.fit(X_train, y_train)\n",
        "model_same.fit(X_train, y_train)\n",
        "# model_unique.fit(X_train, y_train) ## too long to compute"
      ],
      "execution_count": 0,
      "outputs": []
    },
    {
      "cell_type": "code",
      "metadata": {
        "id": "ylcsXzd_Q5pC",
        "colab_type": "code",
        "colab": {}
      },
      "source": [
        "test_data = X_test[:50]\n",
        "test_labels = y_test[:50]"
      ],
      "execution_count": 0,
      "outputs": []
    },
    {
      "cell_type": "code",
      "metadata": {
        "id": "fsjMTgAqQ-4L",
        "colab_type": "code",
        "colab": {
          "base_uri": "https://localhost:8080/",
          "height": 885
        },
        "outputId": "c5a1eaa9-f3cd-472b-eb85-eb2abe4d6789"
      },
      "source": [
        "pred_id = model_id.predict(test_data)"
      ],
      "execution_count": 49,
      "outputs": [
        {
          "output_type": "stream",
          "text": [
            "Prediction nb 0\n",
            "Prediction nb 1\n",
            "Prediction nb 2\n",
            "Prediction nb 3\n",
            "Prediction nb 4\n",
            "Prediction nb 5\n",
            "Prediction nb 6\n",
            "Prediction nb 7\n",
            "Prediction nb 8\n",
            "Prediction nb 9\n",
            "Prediction nb 10\n",
            "Prediction nb 11\n",
            "Prediction nb 12\n",
            "Prediction nb 13\n",
            "Prediction nb 14\n",
            "Prediction nb 15\n",
            "Prediction nb 16\n",
            "Prediction nb 17\n",
            "Prediction nb 18\n",
            "Prediction nb 19\n",
            "Prediction nb 20\n",
            "Prediction nb 21\n",
            "Prediction nb 22\n",
            "Prediction nb 23\n",
            "Prediction nb 24\n",
            "Prediction nb 25\n",
            "Prediction nb 26\n",
            "Prediction nb 27\n",
            "Prediction nb 28\n",
            "Prediction nb 29\n",
            "Prediction nb 30\n",
            "Prediction nb 31\n",
            "Prediction nb 32\n",
            "Prediction nb 33\n",
            "Prediction nb 34\n",
            "Prediction nb 35\n",
            "Prediction nb 36\n",
            "Prediction nb 37\n",
            "Prediction nb 38\n",
            "Prediction nb 39\n",
            "Prediction nb 40\n",
            "Prediction nb 41\n",
            "Prediction nb 42\n",
            "Prediction nb 43\n",
            "Prediction nb 44\n",
            "Prediction nb 45\n",
            "Prediction nb 46\n",
            "Prediction nb 47\n",
            "Prediction nb 48\n",
            "Prediction nb 49\n"
          ],
          "name": "stdout"
        }
      ]
    },
    {
      "cell_type": "code",
      "metadata": {
        "id": "8ncY8DVjSypE",
        "colab_type": "code",
        "colab": {
          "base_uri": "https://localhost:8080/",
          "height": 885
        },
        "outputId": "a0322ddc-df65-4094-8986-a4ecaf610dc3"
      },
      "source": [
        "pred_same = model_same.predict(test_data)"
      ],
      "execution_count": 50,
      "outputs": [
        {
          "output_type": "stream",
          "text": [
            "Prediction nb 0\n",
            "Prediction nb 1\n",
            "Prediction nb 2\n",
            "Prediction nb 3\n",
            "Prediction nb 4\n",
            "Prediction nb 5\n",
            "Prediction nb 6\n",
            "Prediction nb 7\n",
            "Prediction nb 8\n",
            "Prediction nb 9\n",
            "Prediction nb 10\n",
            "Prediction nb 11\n",
            "Prediction nb 12\n",
            "Prediction nb 13\n",
            "Prediction nb 14\n",
            "Prediction nb 15\n",
            "Prediction nb 16\n",
            "Prediction nb 17\n",
            "Prediction nb 18\n",
            "Prediction nb 19\n",
            "Prediction nb 20\n",
            "Prediction nb 21\n",
            "Prediction nb 22\n",
            "Prediction nb 23\n",
            "Prediction nb 24\n",
            "Prediction nb 25\n",
            "Prediction nb 26\n",
            "Prediction nb 27\n",
            "Prediction nb 28\n",
            "Prediction nb 29\n",
            "Prediction nb 30\n",
            "Prediction nb 31\n",
            "Prediction nb 32\n",
            "Prediction nb 33\n",
            "Prediction nb 34\n",
            "Prediction nb 35\n",
            "Prediction nb 36\n",
            "Prediction nb 37\n",
            "Prediction nb 38\n",
            "Prediction nb 39\n",
            "Prediction nb 40\n",
            "Prediction nb 41\n",
            "Prediction nb 42\n",
            "Prediction nb 43\n",
            "Prediction nb 44\n",
            "Prediction nb 45\n",
            "Prediction nb 46\n",
            "Prediction nb 47\n",
            "Prediction nb 48\n",
            "Prediction nb 49\n"
          ],
          "name": "stdout"
        }
      ]
    },
    {
      "cell_type": "code",
      "metadata": {
        "id": "5_5Om_Q2RGGO",
        "colab_type": "code",
        "colab": {
          "base_uri": "https://localhost:8080/",
          "height": 903
        },
        "outputId": "722159fb-33c1-4e38-9a1e-642e09e60cd0"
      },
      "source": [
        "acc_id = measure_accuracy(pred_id, y_test)\n",
        "print(\"Model (Cov=identity) accuracy: {}\".format(acc_id))"
      ],
      "execution_count": 51,
      "outputs": [
        {
          "output_type": "stream",
          "text": [
            "prediction: 7   expected: 7\n",
            "prediction: 2   expected: 2\n",
            "prediction: 1   expected: 1\n",
            "prediction: 0   expected: 0\n",
            "prediction: 4   expected: 4\n",
            "prediction: 1   expected: 1\n",
            "prediction: 4   expected: 4\n",
            "prediction: 9   expected: 9\n",
            "prediction: 2   expected: 5\n",
            "prediction: 9   expected: 9\n",
            "prediction: 0   expected: 0\n",
            "prediction: 2   expected: 6\n",
            "prediction: 9   expected: 9\n",
            "prediction: 0   expected: 0\n",
            "prediction: 1   expected: 1\n",
            "prediction: 5   expected: 5\n",
            "prediction: 9   expected: 9\n",
            "prediction: 7   expected: 7\n",
            "prediction: 3   expected: 3\n",
            "prediction: 4   expected: 4\n",
            "prediction: 7   expected: 9\n",
            "prediction: 6   expected: 6\n",
            "prediction: 4   expected: 6\n",
            "prediction: 5   expected: 5\n",
            "prediction: 4   expected: 4\n",
            "prediction: 0   expected: 0\n",
            "prediction: 7   expected: 7\n",
            "prediction: 4   expected: 4\n",
            "prediction: 0   expected: 0\n",
            "prediction: 1   expected: 1\n",
            "prediction: 3   expected: 3\n",
            "prediction: 1   expected: 1\n",
            "prediction: 3   expected: 3\n",
            "prediction: 6   expected: 4\n",
            "prediction: 7   expected: 7\n",
            "prediction: 2   expected: 2\n",
            "prediction: 7   expected: 7\n",
            "prediction: 1   expected: 1\n",
            "prediction: 3   expected: 2\n",
            "prediction: 1   expected: 1\n",
            "prediction: 1   expected: 1\n",
            "prediction: 7   expected: 7\n",
            "prediction: 4   expected: 4\n",
            "prediction: 1   expected: 2\n",
            "prediction: 3   expected: 3\n",
            "prediction: 5   expected: 5\n",
            "prediction: 5   expected: 1\n",
            "prediction: 2   expected: 2\n",
            "prediction: 4   expected: 4\n",
            "prediction: 4   expected: 4\n",
            "Model (Cov=identity) accuracy: 0.84\n"
          ],
          "name": "stdout"
        }
      ]
    },
    {
      "cell_type": "code",
      "metadata": {
        "id": "uUIZjBSJTR9h",
        "colab_type": "code",
        "colab": {
          "base_uri": "https://localhost:8080/",
          "height": 903
        },
        "outputId": "e1b0da30-570d-4381-cd1d-e00c1c799ec8"
      },
      "source": [
        "acc_same = measure_accuracy(pred_same, y_test)\n",
        "print(\"Model (Cov=same) accuracy: {}\".format(acc))"
      ],
      "execution_count": 52,
      "outputs": [
        {
          "output_type": "stream",
          "text": [
            "prediction: 7   expected: 7\n",
            "prediction: 3   expected: 2\n",
            "prediction: 1   expected: 1\n",
            "prediction: 0   expected: 0\n",
            "prediction: 4   expected: 4\n",
            "prediction: 1   expected: 1\n",
            "prediction: 4   expected: 4\n",
            "prediction: 9   expected: 9\n",
            "prediction: 2   expected: 5\n",
            "prediction: 9   expected: 9\n",
            "prediction: 0   expected: 0\n",
            "prediction: 2   expected: 6\n",
            "prediction: 9   expected: 9\n",
            "prediction: 0   expected: 0\n",
            "prediction: 1   expected: 1\n",
            "prediction: 3   expected: 5\n",
            "prediction: 9   expected: 9\n",
            "prediction: 7   expected: 7\n",
            "prediction: 3   expected: 3\n",
            "prediction: 4   expected: 4\n",
            "prediction: 7   expected: 9\n",
            "prediction: 6   expected: 6\n",
            "prediction: 4   expected: 6\n",
            "prediction: 5   expected: 5\n",
            "prediction: 4   expected: 4\n",
            "prediction: 0   expected: 0\n",
            "prediction: 7   expected: 7\n",
            "prediction: 4   expected: 4\n",
            "prediction: 0   expected: 0\n",
            "prediction: 1   expected: 1\n",
            "prediction: 3   expected: 3\n",
            "prediction: 1   expected: 1\n",
            "prediction: 3   expected: 3\n",
            "prediction: 6   expected: 4\n",
            "prediction: 7   expected: 7\n",
            "prediction: 2   expected: 2\n",
            "prediction: 7   expected: 7\n",
            "prediction: 1   expected: 1\n",
            "prediction: 3   expected: 2\n",
            "prediction: 1   expected: 1\n",
            "prediction: 1   expected: 1\n",
            "prediction: 7   expected: 7\n",
            "prediction: 4   expected: 4\n",
            "prediction: 1   expected: 2\n",
            "prediction: 3   expected: 3\n",
            "prediction: 5   expected: 5\n",
            "prediction: 3   expected: 1\n",
            "prediction: 2   expected: 2\n",
            "prediction: 4   expected: 4\n",
            "prediction: 4   expected: 4\n",
            "Model (Cov=same) accuracy: 0.8666666666666667\n"
          ],
          "name": "stdout"
        }
      ]
    },
    {
      "cell_type": "code",
      "metadata": {
        "id": "L-rSiRRBRnm1",
        "colab_type": "code",
        "colab": {}
      },
      "source": [
        ""
      ],
      "execution_count": 0,
      "outputs": []
    }
  ]
}